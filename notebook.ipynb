{
 "cells": [
  {
   "cell_type": "code",
   "execution_count": 1,
   "metadata": {},
   "outputs": [],
   "source": [
    "import pandas as pd\n",
    "import re\n",
    "\n",
    "import os\n",
    "\n",
    "import matplotlib.pyplot as plt\n",
    "%matplotlib inline"
   ]
  },
  {
   "cell_type": "markdown",
   "metadata": {},
   "source": [
    "**Oktober 2018**\n",
    "\n",
    "Den här filen använder en del av koden som byggdes inför valet 2018. Målsättningen här är att kontrollera ifall Miljöpartiet \"straffas\" hårdare i de kommuner de styrt tillsammans med allianspartier, jämfört med de kommuner där de styrt tillsmamans med vänsterstyren. Bakgrunden är att det för tillfället förs en diskussion om MP:s agerande i Stockholm där partiet lämnade det rödgröna samarbetet och ingick i ett samarbete med Alliansen. Det förs därför en diskussion om att MP kommer behöva hantera en eventuell svekdebatt, då de avviker från väljarnas uppfattning att partiet de facto är ett vänsterparti. \n",
    "\n",
    "**Resultat**\n",
    "\n",
    "Enligt vår sammanräkning så framgår det inget mönster i att MP:s väljare straffar partiet hårdare ifall det ingått i styren på högerkanten jämfört vänsterstyren. Sammanställning bygger på siffror från mandatperioderna 2006-2018. Artikeln publicerades i tidning nr 44. [Här är en länk till texten på Dagens Samhälles hemsida](https://www.dagenssamhalle.se/nyhet/mp-valjare-straffar-inte-blockbyten-25070)."
   ]
  },
  {
   "cell_type": "markdown",
   "metadata": {},
   "source": [
    "### Hämta och formattera grunddata"
   ]
  },
  {
   "cell_type": "markdown",
   "metadata": {},
   "source": [
    "----"
   ]
  },
  {
   "cell_type": "markdown",
   "metadata": {},
   "source": [
    "#### Hämta grunddata"
   ]
  },
  {
   "cell_type": "markdown",
   "metadata": {},
   "source": [
    "Först skapa rätt mappar:"
   ]
  },
  {
   "cell_type": "code",
   "execution_count": 2,
   "metadata": {},
   "outputs": [],
   "source": [
    "from startup_tools import folder_maker"
   ]
  },
  {
   "cell_type": "code",
   "execution_count": 3,
   "metadata": {},
   "outputs": [],
   "source": [
    "folder_maker(years=['2010','2014','2018'])"
   ]
  },
  {
   "cell_type": "markdown",
   "metadata": {},
   "source": [
    "Nu hämta alla grundfiler från valmyndighetens API (kan ta ett par minuter)):"
   ]
  },
  {
   "cell_type": "code",
   "execution_count": 4,
   "metadata": {},
   "outputs": [],
   "source": [
    "from startup_tools import xml_data_fetcher"
   ]
  },
  {
   "cell_type": "code",
   "execution_count": 5,
   "metadata": {},
   "outputs": [
    {
     "name": "stdout",
     "output_type": "stream",
     "text": [
      "CPU times: user 5.79 s, sys: 3.83 s, total: 9.63 s\n",
      "Wall time: 2min 13s\n"
     ]
    }
   ],
   "source": [
    "%%time\n",
    "xml_data_fetcher(count_type='slutresultat')"
   ]
  },
  {
   "cell_type": "markdown",
   "metadata": {},
   "source": [
    "Nu extrahera formetterad valdata:"
   ]
  },
  {
   "cell_type": "code",
   "execution_count": 6,
   "metadata": {},
   "outputs": [],
   "source": [
    "from startup_tools import ExtractData\n",
    "E = ExtractData()"
   ]
  },
  {
   "cell_type": "code",
   "execution_count": 7,
   "metadata": {},
   "outputs": [],
   "source": [
    "years = ['2010','2014','2018']\n",
    "\n",
    "for year in years:\n",
    "    E.fast_elec_calc(year=year,count_type=\"slutresultat\")\n",
    "    E.fast_particip_calc(year=year,count_type=\"slutresultat\")\n",
    "    #E.muni_elec_meta_data(year=year)\n",
    "\n",
    "E.all_parties(count_type=\"slutresultat\")\n",
    "E.macro_results(count_type=\"slutresultat\") "
   ]
  },
  {
   "cell_type": "markdown",
   "metadata": {},
   "source": [
    "**Klart!** All hämtad och formatterad data ligger nu i mappen data, och dess undermappar."
   ]
  },
  {
   "cell_type": "markdown",
   "metadata": {},
   "source": [
    "---"
   ]
  },
  {
   "cell_type": "markdown",
   "metadata": {},
   "source": [
    "#### Formattering av grunddata"
   ]
  },
  {
   "cell_type": "markdown",
   "metadata": {},
   "source": [
    "Eftersom vi önskar ta reda på skillnaderna mellan vad man fick för mandat in i en mandatperiod i respektive kommun, kontra vad man sedan får i samma kommuner valet därpå, då måste dessa få korrekt namn så vi kan skilja dem emellan. I följande beräkningar så syftar \"\\_väljarmandat\" på det valresultat som MP fick i de kommuner där de var med och styrde _i den rådande mandatperioden som man utgår ifrån_. \"\\_valresultat\" syftar sedermera på vad man sedan fick i valet därpå, dvs ifall man i dessa styren straffades eller belönades i de kommunerna där man ingick i ett styre."
   ]
  },
  {
   "cell_type": "code",
   "execution_count": 3,
   "metadata": {},
   "outputs": [],
   "source": [
    "def col_shaper(cols):\n",
    "    \"\"\"Den här funktionen tar våra dataframes kolumner och omformar \\\n",
    "dessa till en dictionary med önskad utformning. Så alla resultat \\\n",
    "från denna funktion vet att varannan kolumn bygger på äldre \\\n",
    "valresultat. Denna funktion ger varannan kolumn ändelsen \\\n",
    "'_väljarmandat' och varannan '_valresultat' i en dictionary. \\\n",
    "Se cellen direkt nedanför för exempel.\"\"\"\n",
    "    \n",
    "    # det är endast de kolumner med valresultatsdata som ska formatteras, \n",
    "    # dessa har alltid en årsändelse, t ex \"mandat_2006\"\n",
    "    formatted_cols = [col for col in cols if '_20' in col]\n",
    "    \n",
    "    # De övriga ska inte formatteras\n",
    "    old_cols = [col for col in cols if '_20' not in col]\n",
    "    \n",
    "    # sortera kolumnerna som ska formatteras\n",
    "    formatted_cols.sort()\n",
    "    \n",
    "    # spara hur de oformatterade kolumnerna ser ut\n",
    "    olds = formatted_cols.copy()\n",
    "    \n",
    "    # lägg till de kolumner som inte ska formatteras\n",
    "    [olds.append(col) for col in old_cols]\n",
    "    \n",
    "    counter = 1\n",
    "    for i in range(len(formatted_cols)):\n",
    "        # Hitta alla kolumner som har en sifferändelse i sig i \n",
    "        # listan på kolumner som ska formatteras\n",
    "        r = re.findall(\"\\w+(_\\d+)\",formatted_cols[i])[0]\n",
    "        \n",
    "        if counter % 2 != 0:\n",
    "            # Ifall det är 1a, 2a, 3e etc kolumnen, gör såhär:\n",
    "            formatted_cols[i] = formatted_cols[i].replace(r,\"_väljarmandat\")\n",
    "        else:\n",
    "            # annars gör såhär:\n",
    "            formatted_cols[i] = formatted_cols[i].replace(r,\"_valresultat\")\n",
    "        counter += 1\n",
    "    \n",
    "    # Lägg till de kolumner som inte skulle formatteras till listan på de\n",
    "    # formatterade kolumnerna:\n",
    "    [formatted_cols.append(col) for col in old_cols]\n",
    "    \n",
    "    # återge en dictionary på resultat:\n",
    "    return dict(zip(olds,formatted_cols))\n",
    "        "
   ]
  },
  {
   "cell_type": "markdown",
   "metadata": {},
   "source": [
    "### Grunddata för alla år"
   ]
  },
  {
   "cell_type": "code",
   "execution_count": 4,
   "metadata": {},
   "outputs": [],
   "source": [
    "from util import gov_mandates,block_gov_count"
   ]
  },
  {
   "cell_type": "markdown",
   "metadata": {},
   "source": [
    "Funktionen gov_mandates() (kort för \"government mandates\") hämtar info om vilka som styrde respektive kommun mandatperioden från det angivna året. Alltså: vilka styrde? Och på vilket mandat styrde dem? Funktionen block_gov_count() lägger sedan till information om hur det gick efterföljande val."
   ]
  },
  {
   "cell_type": "code",
   "execution_count": 5,
   "metadata": {},
   "outputs": [
    {
     "data": {
      "text/html": [
       "<div>\n",
       "<style scoped>\n",
       "    .dataframe tbody tr th:only-of-type {\n",
       "        vertical-align: middle;\n",
       "    }\n",
       "\n",
       "    .dataframe tbody tr th {\n",
       "        vertical-align: top;\n",
       "    }\n",
       "\n",
       "    .dataframe thead th {\n",
       "        text-align: right;\n",
       "    }\n",
       "</style>\n",
       "<table border=\"1\" class=\"dataframe\">\n",
       "  <thead>\n",
       "    <tr style=\"text-align: right;\">\n",
       "      <th></th>\n",
       "      <th>kommun</th>\n",
       "      <th>parti</th>\n",
       "      <th>röster</th>\n",
       "      <th>mandat</th>\n",
       "      <th>procent_2014</th>\n",
       "      <th>block</th>\n",
       "      <th>summa_mandat_2014</th>\n",
       "      <th>summa_röster_2014</th>\n",
       "    </tr>\n",
       "  </thead>\n",
       "  <tbody>\n",
       "    <tr>\n",
       "      <th>0</th>\n",
       "      <td>Ale</td>\n",
       "      <td>S</td>\n",
       "      <td>6032.0</td>\n",
       "      <td>17.0</td>\n",
       "      <td>33.59</td>\n",
       "      <td>V</td>\n",
       "      <td>49</td>\n",
       "      <td>18217</td>\n",
       "    </tr>\n",
       "    <tr>\n",
       "      <th>1</th>\n",
       "      <td>Ale</td>\n",
       "      <td>V</td>\n",
       "      <td>1122.0</td>\n",
       "      <td>3.0</td>\n",
       "      <td>6.25</td>\n",
       "      <td>V</td>\n",
       "      <td>49</td>\n",
       "      <td>18217</td>\n",
       "    </tr>\n",
       "    <tr>\n",
       "      <th>2</th>\n",
       "      <td>Ale</td>\n",
       "      <td>MP</td>\n",
       "      <td>1023.0</td>\n",
       "      <td>3.0</td>\n",
       "      <td>5.70</td>\n",
       "      <td>V</td>\n",
       "      <td>49</td>\n",
       "      <td>18217</td>\n",
       "    </tr>\n",
       "    <tr>\n",
       "      <th>3</th>\n",
       "      <td>Alingsås</td>\n",
       "      <td>M</td>\n",
       "      <td>5619.0</td>\n",
       "      <td>10.0</td>\n",
       "      <td>21.58</td>\n",
       "      <td>A</td>\n",
       "      <td>51</td>\n",
       "      <td>26369</td>\n",
       "    </tr>\n",
       "    <tr>\n",
       "      <th>4</th>\n",
       "      <td>Alingsås</td>\n",
       "      <td>L</td>\n",
       "      <td>2682.0</td>\n",
       "      <td>5.0</td>\n",
       "      <td>10.30</td>\n",
       "      <td>A</td>\n",
       "      <td>51</td>\n",
       "      <td>26369</td>\n",
       "    </tr>\n",
       "  </tbody>\n",
       "</table>\n",
       "</div>"
      ],
      "text/plain": [
       "     kommun parti  röster  mandat  procent_2014 block summa_mandat_2014  \\\n",
       "0       Ale     S  6032.0    17.0         33.59     V                49   \n",
       "1       Ale     V  1122.0     3.0          6.25     V                49   \n",
       "2       Ale    MP  1023.0     3.0          5.70     V                49   \n",
       "3  Alingsås     M  5619.0    10.0         21.58     A                51   \n",
       "4  Alingsås     L  2682.0     5.0         10.30     A                51   \n",
       "\n",
       "  summa_röster_2014  \n",
       "0             18217  \n",
       "1             18217  \n",
       "2             18217  \n",
       "3             26369  \n",
       "4             26369  "
      ]
     },
     "execution_count": 5,
     "metadata": {},
     "output_type": "execute_result"
    }
   ],
   "source": [
    "# Ett exempel på vad funktionen hämtar:\n",
    "gov_mandates(2014).head()"
   ]
  },
  {
   "cell_type": "code",
   "execution_count": 6,
   "metadata": {},
   "outputs": [
    {
     "name": "stdout",
     "output_type": "stream",
     "text": [
      "CPU times: user 13.9 s, sys: 47.9 ms, total: 14 s\n",
      "Wall time: 14 s\n"
     ]
    }
   ],
   "source": [
    "%%time\n",
    "frames = []\n",
    "for year in [2010,2014,2018]:\n",
    "    compare_year = year-4\n",
    "    govs = gov_mandates(compare_year)\n",
    "    tmp = block_gov_count(govs,value='mandat',elec_year=year,compare_year=compare_year,research_data=True)\n",
    "    tmp['mandatperiod'] = f'{str(compare_year)}_{str(year)}'\n",
    "    frames.append(tmp)"
   ]
  },
  {
   "cell_type": "markdown",
   "metadata": {},
   "source": [
    "### Beräkningar"
   ]
  },
  {
   "cell_type": "code",
   "execution_count": 7,
   "metadata": {},
   "outputs": [],
   "source": [
    "from util import all_elec_years"
   ]
  },
  {
   "cell_type": "markdown",
   "metadata": {},
   "source": [
    "Lägg ihop alla dataframes med valdata i en lista vi kan loopa igenom:"
   ]
  },
  {
   "cell_type": "code",
   "execution_count": 8,
   "metadata": {},
   "outputs": [],
   "source": [
    "alla_perioder = pd.DataFrame()\n",
    "for frame in frames:\n",
    "    # Döp om alla kolumner:\n",
    "    frame.columns = frame.columns.map(col_shaper(frame.columns))\n",
    "    \n",
    "    # Sortera fram alla alliansstyren där MP ingick och lägg till i \"alla_perioder\"\n",
    "    alla_perioder=pd.concat([alla_perioder,\n",
    "                             frame.loc[(frame['block']=='A')&(frame['parti']=='MP')]])\n",
    "    \n",
    "    # Sortera fram alla vänsterstyren där MP ingick och lägg till i \"alla_perioder\"\n",
    "    alla_perioder=pd.concat([alla_perioder,\n",
    "                             frame.loc[(frame['block']=='V')&(frame['parti']=='MP')]])\n"
   ]
  },
  {
   "cell_type": "code",
   "execution_count": 9,
   "metadata": {},
   "outputs": [],
   "source": [
    "valresultat = alla_perioder.mandatperiod.unique().tolist()"
   ]
  },
  {
   "cell_type": "markdown",
   "metadata": {},
   "source": [
    "Här endast för att döpa om mandatperioderna efter respektive valår:"
   ]
  },
  {
   "cell_type": "code",
   "execution_count": 10,
   "metadata": {},
   "outputs": [],
   "source": [
    "alla_perioder.mandatperiod=alla_perioder.mandatperiod.map(dict(zip(valresultat,[2006,2010,2014,2018])))"
   ]
  },
  {
   "cell_type": "markdown",
   "metadata": {},
   "source": [
    "Eftersom vi enbart sorterat fram alla rader i totaldatat som är MP:s data så kan vi skippa partikolumnen helt och hållet. \n",
    "\n",
    "Samuel bad om procentutveckling i alla styren där MP ingår. Därför nöjer vi oss med de kolumner som krävs för att få fram detta:"
   ]
  },
  {
   "cell_type": "code",
   "execution_count": 11,
   "metadata": {},
   "outputs": [],
   "source": [
    "resultat = alla_perioder.loc[:,['kommun',\n",
    "                                'mandatperiod',\n",
    "                                'block',\n",
    "                                'röster_väljarmandat',\n",
    "                                'summa_röster_väljarmandat',\n",
    "                                'röster_valresultat',\n",
    "                                'summa_röster_valresultat']]"
   ]
  },
  {
   "cell_type": "code",
   "execution_count": 12,
   "metadata": {},
   "outputs": [],
   "source": [
    "resultat.iloc[:,3:] = resultat.iloc[:,3:].astype('int')"
   ]
  },
  {
   "cell_type": "code",
   "execution_count": 13,
   "metadata": {},
   "outputs": [],
   "source": [
    "resultat=resultat.groupby(['mandatperiod','block']).sum().reset_index()"
   ]
  },
  {
   "cell_type": "code",
   "execution_count": 14,
   "metadata": {},
   "outputs": [
    {
     "data": {
      "text/html": [
       "<div>\n",
       "<style scoped>\n",
       "    .dataframe tbody tr th:only-of-type {\n",
       "        vertical-align: middle;\n",
       "    }\n",
       "\n",
       "    .dataframe tbody tr th {\n",
       "        vertical-align: top;\n",
       "    }\n",
       "\n",
       "    .dataframe thead th {\n",
       "        text-align: right;\n",
       "    }\n",
       "</style>\n",
       "<table border=\"1\" class=\"dataframe\">\n",
       "  <thead>\n",
       "    <tr style=\"text-align: right;\">\n",
       "      <th></th>\n",
       "      <th>mandatperiod</th>\n",
       "      <th>block</th>\n",
       "      <th>röster_väljarmandat</th>\n",
       "      <th>summa_röster_väljarmandat</th>\n",
       "      <th>röster_valresultat</th>\n",
       "      <th>summa_röster_valresultat</th>\n",
       "    </tr>\n",
       "  </thead>\n",
       "  <tbody>\n",
       "    <tr>\n",
       "      <th>0</th>\n",
       "      <td>2006</td>\n",
       "      <td>A</td>\n",
       "      <td>24523</td>\n",
       "      <td>595128</td>\n",
       "      <td>33988</td>\n",
       "      <td>635483</td>\n",
       "    </tr>\n",
       "    <tr>\n",
       "      <th>1</th>\n",
       "      <td>2006</td>\n",
       "      <td>V</td>\n",
       "      <td>60289</td>\n",
       "      <td>1068082</td>\n",
       "      <td>84981</td>\n",
       "      <td>1145118</td>\n",
       "    </tr>\n",
       "    <tr>\n",
       "      <th>2</th>\n",
       "      <td>2010</td>\n",
       "      <td>A</td>\n",
       "      <td>41879</td>\n",
       "      <td>773367</td>\n",
       "      <td>48330</td>\n",
       "      <td>807239</td>\n",
       "    </tr>\n",
       "    <tr>\n",
       "      <th>3</th>\n",
       "      <td>2010</td>\n",
       "      <td>V</td>\n",
       "      <td>112622</td>\n",
       "      <td>1626120</td>\n",
       "      <td>126743</td>\n",
       "      <td>1699773</td>\n",
       "    </tr>\n",
       "    <tr>\n",
       "      <th>4</th>\n",
       "      <td>2014</td>\n",
       "      <td>A</td>\n",
       "      <td>38417</td>\n",
       "      <td>569635</td>\n",
       "      <td>23502</td>\n",
       "      <td>601812</td>\n",
       "    </tr>\n",
       "    <tr>\n",
       "      <th>5</th>\n",
       "      <td>2014</td>\n",
       "      <td>V</td>\n",
       "      <td>226600</td>\n",
       "      <td>2265896</td>\n",
       "      <td>143601</td>\n",
       "      <td>2384535</td>\n",
       "    </tr>\n",
       "  </tbody>\n",
       "</table>\n",
       "</div>"
      ],
      "text/plain": [
       "   mandatperiod block  röster_väljarmandat  summa_röster_väljarmandat  \\\n",
       "0          2006     A                24523                     595128   \n",
       "1          2006     V                60289                    1068082   \n",
       "2          2010     A                41879                     773367   \n",
       "3          2010     V               112622                    1626120   \n",
       "4          2014     A                38417                     569635   \n",
       "5          2014     V               226600                    2265896   \n",
       "\n",
       "   röster_valresultat  summa_röster_valresultat  \n",
       "0               33988                    635483  \n",
       "1               84981                   1145118  \n",
       "2               48330                    807239  \n",
       "3              126743                   1699773  \n",
       "4               23502                    601812  \n",
       "5              143601                   2384535  "
      ]
     },
     "execution_count": 14,
     "metadata": {},
     "output_type": "execute_result"
    }
   ],
   "source": [
    "resultat"
   ]
  },
  {
   "cell_type": "code",
   "execution_count": 15,
   "metadata": {},
   "outputs": [
    {
     "data": {
      "text/plain": [
       "Index(['mandatperiod', 'block', 'röster_väljarmandat',\n",
       "       'summa_röster_väljarmandat', 'röster_valresultat',\n",
       "       'summa_röster_valresultat'],\n",
       "      dtype='object')"
      ]
     },
     "execution_count": 15,
     "metadata": {},
     "output_type": "execute_result"
    }
   ],
   "source": [
    "resultat.columns"
   ]
  },
  {
   "cell_type": "code",
   "execution_count": 16,
   "metadata": {},
   "outputs": [],
   "source": [
    "resultat['väljarmandat'] = ((resultat['röster_väljarmandat'] / resultat['summa_röster_väljarmandat'])*100).round(2)"
   ]
  },
  {
   "cell_type": "code",
   "execution_count": 17,
   "metadata": {},
   "outputs": [],
   "source": [
    "resultat['valresultat'] = ((resultat['röster_valresultat'] / resultat['summa_röster_valresultat'])*100).round(2)"
   ]
  },
  {
   "cell_type": "markdown",
   "metadata": {},
   "source": [
    "Kolumnen \"resultat\" är bara en rak procentjämförelse på hur många andelar högre eller lägre följande valresultat var inom respektive blockstyre:"
   ]
  },
  {
   "cell_type": "code",
   "execution_count": 18,
   "metadata": {},
   "outputs": [],
   "source": [
    "resultat['resultat'] = (((resultat['valresultat'] / resultat['väljarmandat'])-1)*100).round(2)"
   ]
  },
  {
   "cell_type": "code",
   "execution_count": 19,
   "metadata": {},
   "outputs": [],
   "source": [
    "resultat=resultat.loc[:,['mandatperiod','block','väljarmandat','valresultat','resultat']]"
   ]
  },
  {
   "cell_type": "code",
   "execution_count": 20,
   "metadata": {},
   "outputs": [
    {
     "data": {
      "text/html": [
       "<div>\n",
       "<style scoped>\n",
       "    .dataframe tbody tr th:only-of-type {\n",
       "        vertical-align: middle;\n",
       "    }\n",
       "\n",
       "    .dataframe tbody tr th {\n",
       "        vertical-align: top;\n",
       "    }\n",
       "\n",
       "    .dataframe thead th {\n",
       "        text-align: right;\n",
       "    }\n",
       "</style>\n",
       "<table border=\"1\" class=\"dataframe\">\n",
       "  <thead>\n",
       "    <tr style=\"text-align: right;\">\n",
       "      <th></th>\n",
       "      <th>mandatperiod</th>\n",
       "      <th>block</th>\n",
       "      <th>väljarmandat</th>\n",
       "      <th>valresultat</th>\n",
       "      <th>resultat</th>\n",
       "    </tr>\n",
       "  </thead>\n",
       "  <tbody>\n",
       "    <tr>\n",
       "      <th>0</th>\n",
       "      <td>2006</td>\n",
       "      <td>A</td>\n",
       "      <td>4.12</td>\n",
       "      <td>5.35</td>\n",
       "      <td>29.85</td>\n",
       "    </tr>\n",
       "    <tr>\n",
       "      <th>1</th>\n",
       "      <td>2006</td>\n",
       "      <td>V</td>\n",
       "      <td>5.64</td>\n",
       "      <td>7.42</td>\n",
       "      <td>31.56</td>\n",
       "    </tr>\n",
       "    <tr>\n",
       "      <th>2</th>\n",
       "      <td>2010</td>\n",
       "      <td>A</td>\n",
       "      <td>5.42</td>\n",
       "      <td>5.99</td>\n",
       "      <td>10.52</td>\n",
       "    </tr>\n",
       "    <tr>\n",
       "      <th>3</th>\n",
       "      <td>2010</td>\n",
       "      <td>V</td>\n",
       "      <td>6.93</td>\n",
       "      <td>7.46</td>\n",
       "      <td>7.65</td>\n",
       "    </tr>\n",
       "    <tr>\n",
       "      <th>4</th>\n",
       "      <td>2014</td>\n",
       "      <td>A</td>\n",
       "      <td>6.74</td>\n",
       "      <td>3.91</td>\n",
       "      <td>-41.99</td>\n",
       "    </tr>\n",
       "    <tr>\n",
       "      <th>5</th>\n",
       "      <td>2014</td>\n",
       "      <td>V</td>\n",
       "      <td>10.00</td>\n",
       "      <td>6.02</td>\n",
       "      <td>-39.80</td>\n",
       "    </tr>\n",
       "  </tbody>\n",
       "</table>\n",
       "</div>"
      ],
      "text/plain": [
       "   mandatperiod block  väljarmandat  valresultat  resultat\n",
       "0          2006     A          4.12         5.35     29.85\n",
       "1          2006     V          5.64         7.42     31.56\n",
       "2          2010     A          5.42         5.99     10.52\n",
       "3          2010     V          6.93         7.46      7.65\n",
       "4          2014     A          6.74         3.91    -41.99\n",
       "5          2014     V         10.00         6.02    -39.80"
      ]
     },
     "execution_count": 20,
     "metadata": {},
     "output_type": "execute_result"
    }
   ],
   "source": [
    "resultat"
   ]
  },
  {
   "cell_type": "code",
   "execution_count": 22,
   "metadata": {},
   "outputs": [],
   "source": [
    "resultat['skillnad'] = resultat['valresultat'] - resultat['väljarmandat']"
   ]
  },
  {
   "cell_type": "code",
   "execution_count": 23,
   "metadata": {},
   "outputs": [
    {
     "data": {
      "text/html": [
       "<div>\n",
       "<style scoped>\n",
       "    .dataframe tbody tr th:only-of-type {\n",
       "        vertical-align: middle;\n",
       "    }\n",
       "\n",
       "    .dataframe tbody tr th {\n",
       "        vertical-align: top;\n",
       "    }\n",
       "\n",
       "    .dataframe thead th {\n",
       "        text-align: right;\n",
       "    }\n",
       "</style>\n",
       "<table border=\"1\" class=\"dataframe\">\n",
       "  <thead>\n",
       "    <tr style=\"text-align: right;\">\n",
       "      <th></th>\n",
       "      <th>mandatperiod</th>\n",
       "      <th>block</th>\n",
       "      <th>väljarmandat</th>\n",
       "      <th>valresultat</th>\n",
       "      <th>resultat</th>\n",
       "      <th>skillnad</th>\n",
       "    </tr>\n",
       "  </thead>\n",
       "  <tbody>\n",
       "    <tr>\n",
       "      <th>0</th>\n",
       "      <td>2006</td>\n",
       "      <td>A</td>\n",
       "      <td>4.12</td>\n",
       "      <td>5.35</td>\n",
       "      <td>29.85</td>\n",
       "      <td>1.23</td>\n",
       "    </tr>\n",
       "    <tr>\n",
       "      <th>1</th>\n",
       "      <td>2006</td>\n",
       "      <td>V</td>\n",
       "      <td>5.64</td>\n",
       "      <td>7.42</td>\n",
       "      <td>31.56</td>\n",
       "      <td>1.78</td>\n",
       "    </tr>\n",
       "    <tr>\n",
       "      <th>2</th>\n",
       "      <td>2010</td>\n",
       "      <td>A</td>\n",
       "      <td>5.42</td>\n",
       "      <td>5.99</td>\n",
       "      <td>10.52</td>\n",
       "      <td>0.57</td>\n",
       "    </tr>\n",
       "    <tr>\n",
       "      <th>3</th>\n",
       "      <td>2010</td>\n",
       "      <td>V</td>\n",
       "      <td>6.93</td>\n",
       "      <td>7.46</td>\n",
       "      <td>7.65</td>\n",
       "      <td>0.53</td>\n",
       "    </tr>\n",
       "    <tr>\n",
       "      <th>4</th>\n",
       "      <td>2014</td>\n",
       "      <td>A</td>\n",
       "      <td>6.74</td>\n",
       "      <td>3.91</td>\n",
       "      <td>-41.99</td>\n",
       "      <td>-2.83</td>\n",
       "    </tr>\n",
       "    <tr>\n",
       "      <th>5</th>\n",
       "      <td>2014</td>\n",
       "      <td>V</td>\n",
       "      <td>10.00</td>\n",
       "      <td>6.02</td>\n",
       "      <td>-39.80</td>\n",
       "      <td>-3.98</td>\n",
       "    </tr>\n",
       "  </tbody>\n",
       "</table>\n",
       "</div>"
      ],
      "text/plain": [
       "   mandatperiod block  väljarmandat  valresultat  resultat  skillnad\n",
       "0          2006     A          4.12         5.35     29.85      1.23\n",
       "1          2006     V          5.64         7.42     31.56      1.78\n",
       "2          2010     A          5.42         5.99     10.52      0.57\n",
       "3          2010     V          6.93         7.46      7.65      0.53\n",
       "4          2014     A          6.74         3.91    -41.99     -2.83\n",
       "5          2014     V         10.00         6.02    -39.80     -3.98"
      ]
     },
     "execution_count": 23,
     "metadata": {},
     "output_type": "execute_result"
    }
   ],
   "source": [
    "resultat"
   ]
  },
  {
   "cell_type": "code",
   "execution_count": 24,
   "metadata": {},
   "outputs": [],
   "source": [
    "os.makedirs('res')"
   ]
  },
  {
   "cell_type": "code",
   "execution_count": 25,
   "metadata": {},
   "outputs": [],
   "source": [
    "resultat.to_excel('res/sammanfattning.xlsx',index=False)"
   ]
  },
  {
   "cell_type": "code",
   "execution_count": 26,
   "metadata": {},
   "outputs": [],
   "source": [
    "alla_perioder=alla_perioder[['kommun','mandatperiod','block','procent_väljarmandat','procent_valresultat']].reset_index(drop=True)"
   ]
  },
  {
   "cell_type": "code",
   "execution_count": 27,
   "metadata": {},
   "outputs": [],
   "source": [
    "alla_perioder['resultat_i_följande_val'] = alla_perioder.procent_valresultat-alla_perioder.procent_väljarmandat"
   ]
  },
  {
   "cell_type": "code",
   "execution_count": 28,
   "metadata": {},
   "outputs": [],
   "source": [
    "alla_perioder.to_excel('res/alla_kommuner.xlsx',index=False)"
   ]
  },
  {
   "cell_type": "code",
   "execution_count": null,
   "metadata": {},
   "outputs": [],
   "source": []
  },
  {
   "cell_type": "code",
   "execution_count": null,
   "metadata": {},
   "outputs": [],
   "source": []
  },
  {
   "cell_type": "code",
   "execution_count": null,
   "metadata": {},
   "outputs": [],
   "source": []
  },
  {
   "cell_type": "code",
   "execution_count": null,
   "metadata": {},
   "outputs": [],
   "source": []
  }
 ],
 "metadata": {
  "kernelspec": {
   "display_name": "Python 3",
   "language": "python",
   "name": "python3"
  },
  "language_info": {
   "codemirror_mode": {
    "name": "ipython",
    "version": 3
   },
   "file_extension": ".py",
   "mimetype": "text/x-python",
   "name": "python",
   "nbconvert_exporter": "python",
   "pygments_lexer": "ipython3",
   "version": "3.7.2"
  }
 },
 "nbformat": 4,
 "nbformat_minor": 2
}
